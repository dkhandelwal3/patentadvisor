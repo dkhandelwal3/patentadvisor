{
 "cells": [
  {
   "cell_type": "code",
   "execution_count": null,
   "metadata": {},
   "outputs": [],
   "source": [
    "from service.document import storeDocument, searchDocumentService\n",
    "\n",
    "searchDocumentService.searchDocument(\"find patent where on of inventor is Raymond Kruck\")"
   ]
  }
 ],
 "metadata": {
  "language_info": {
   "name": "python"
  }
 },
 "nbformat": 4,
 "nbformat_minor": 2
}
